{
  "nbformat": 4,
  "nbformat_minor": 0,
  "metadata": {
    "colab": {
      "provenance": [],
      "include_colab_link": true
    },
    "kernelspec": {
      "name": "python3",
      "display_name": "Python 3"
    }
  },
  "cells": [
    {
      "cell_type": "markdown",
      "metadata": {
        "id": "view-in-github",
        "colab_type": "text"
      },
      "source": [
        "<a href=\"https://colab.research.google.com/github/MrSamuel0/SI1N-Construcao_de_sotware_para_web/blob/main/Introdu%C3%A7%C3%A3o_%C3%A0_Linguagem_de_Programa%C3%A7%C3%A3o_QUESTION%C3%81RIO.ipynb\" target=\"_parent\"><img src=\"https://colab.research.google.com/assets/colab-badge.svg\" alt=\"Open In Colab\"/></a>"
      ]
    },
    {
      "cell_type": "markdown",
      "metadata": {
        "id": "G90zxY79qIXe"
      },
      "source": [
        "<html>\n",
        "  <body>\n",
        "    <header></header>\n",
        "        <CENTER>\n",
        "          <img src=\"https://uvv.br/wp-content/themes/uvvBr/templates/assets//img/logouvv.svg\" alt=\"UVV-LOGO\" style = width=\"100px\"; height=\"100px\">\n",
        "        </CENTER>\n",
        "        <CENTER>\n",
        "          </CENTER>\n",
        "        <CENTER><b>Introdução à Linguagem de Programação</b></CENTER><br/>\n",
        "        <CENTER><b>Questionário</b></CENTER><br/>\n",
        "        </font>"
      ]
    },
    {
      "cell_type": "markdown",
      "source": [
        "NOME: ???"
      ],
      "metadata": {
        "id": "VcflTI9t2r8R"
      }
    },
    {
      "cell_type": "markdown",
      "source": [
        "Link para este COLAB: [Aqui!]()"
      ],
      "metadata": {
        "id": "dE6XUUtH2eU-"
      }
    },
    {
      "cell_type": "markdown",
      "source": [
        "#EXERCÍCIO DE FIXAÇÃO:"
      ],
      "metadata": {
        "id": "8iZ0JyHqC9QI"
      }
    },
    {
      "cell_type": "markdown",
      "source": [
        "#Exercício 1:"
      ],
      "metadata": {
        "id": "C_vq0oekySYP"
      }
    },
    {
      "cell_type": "markdown",
      "source": [
        "Faça um mapa conceitual ([MIRO](https://miro.com/pt/mapa-conceitual/): online) que contenha a definição dos conceitos a seguir:"
      ],
      "metadata": {
        "id": "O9JAY8jHkWGL"
      }
    },
    {
      "cell_type": "markdown",
      "source": [
        "A partir do CONCEITO: Linguagem de programação, faça um Mapa Conceitual que deve interligar os conceitos de:\n",
        "\n",
        "*   Linguagem de Máquina\n",
        "*   Tradutor\n",
        "*   Compilador\n",
        "*   Interpretador\n",
        "*   Linguagem de Baixo Nível\n",
        "*   Linguagem de Alto Nível\n",
        "*   IDE\n",
        "*   Analisador Léxico\n",
        "*   Tokens\n",
        "*   KeyWords (palavras chaves)\n",
        "*   Analisador de Sintaxe\n",
        "*   Analisador Semântico\n",
        "*   Pensamento Computacional\n",
        "*   Paradigma\n",
        "*   Paradigma Imperativo\n",
        "*   Paradigma Declarativo\n",
        "*   Paradigma Procedural\n",
        "*   Paradigma Estrutural\n",
        "*   Paradigma Orientado a objeto\n",
        "*   Paradigma Funcional\n",
        "*   Paradigma Lógico\n",
        "*   Modularização\n",
        "*   Encapsulamento\n",
        "*   Reutilização de código"
      ],
      "metadata": {
        "id": "Y1c_hngHk1-i"
      }
    },
    {
      "cell_type": "markdown",
      "source": [
        "Exemplo: [Aqui!](https://miro.com)"
      ],
      "metadata": {
        "id": "qtPB3edQypv2"
      }
    },
    {
      "cell_type": "markdown",
      "source": [
        "#Exercício 2:"
      ],
      "metadata": {
        "id": "E6r0FYbjyw0G"
      }
    },
    {
      "cell_type": "markdown",
      "source": [
        "Pesquisar e classificar as 10 primeiras Linguagens de Programação no TOP TEN do\n",
        "\n",
        "stack overflow survey 2023: [Link!](https://survey.stackoverflow.co/2023/#technology-most-popular-technologies)"
      ],
      "metadata": {
        "id": "4ueZqWtaC8ZA"
      }
    },
    {
      "cell_type": "markdown",
      "source": [
        "1.   JavaScript 63.61%\n",
        "1.   Python 49.28%\n",
        "2.   SQL 48.66%\n",
        "1.   TypeScript 38.87%\n",
        "2.   Bash/Shell (all shells) 32.37%\n",
        "1.   Java 30.55%\n",
        "2.   C 19.34% / C# / C++ 22.42% 27.62%\n",
        "2.  PHP 18.58%\n",
        "2. PowerShell 13.59%\n",
        "2. Go 13.24%"
      ],
      "metadata": {
        "id": "qALBG60tzehl"
      }
    },
    {
      "cell_type": "markdown",
      "source": [
        "Para cada uma das linguagens, responda:\n",
        "1.   PARADIGMA\n",
        "2.   ARQUITETURA\n",
        "3. ANALISADOR LÉXICO"
      ],
      "metadata": {
        "id": "_sYTUch3MufK"
      }
    },
    {
      "cell_type": "markdown",
      "source": [
        "#Exercício 3:"
      ],
      "metadata": {
        "id": "DD5RsUwW018G"
      }
    },
    {
      "cell_type": "markdown",
      "source": [
        "A partir do código a seguir, cometa:\n",
        "*   Três (3) erros léxicos\n",
        "*   Três (3) erros de sintaxe\n",
        "*   Três (3) erros de semântica"
      ],
      "metadata": {
        "id": "O7xB6Mf203ci"
      }
    },
    {
      "cell_type": "code",
      "source": [
        "# ALGORITMO: ENTRADA + PROCESSAMENTO + SAÍDA\n",
        "import math\n",
        "# ENTRADA\n",
        "tamanho = int(input('TAMANHO DO ARQUIVO (Megabytes): '))\n",
        "velocidade = int(input('TAMANHO DO ARQUIVO (Megabytes / segundos): '))\n",
        "# PROCESSAMENTO\n",
        "tempo = tamanho / velocidade\n",
        "minutos = tempo / 60\n",
        "segundos = minutos - math.floor(minutos)\n",
        "segundos = 60 * segundos\n",
        "# SAÍDA\n",
        "print(f'TEMPO DE DOWNLOAD: {math.floor(minutos): .0f} MINUTOS E {segundos: .0f} SEGUNDOS')"
      ],
      "metadata": {
        "colab": {
          "base_uri": "https://localhost:8080/",
          "height": 245
        },
        "id": "rwWbvEsL1LWV",
        "outputId": "e2bb2bc9-723a-45c5-f8c6-b01b8e0a3c58"
      },
      "execution_count": null,
      "outputs": [
        {
          "name": "stdout",
          "output_type": "stream",
          "text": [
            "TAMANHO DO ARQUIVO (Megabytes): 0\n",
            "TAMANHO DO ARQUIVO (Megabytes / segundos): 0\n"
          ]
        },
        {
          "output_type": "error",
          "ename": "ZeroDivisionError",
          "evalue": "division by zero",
          "traceback": [
            "\u001b[0;31m---------------------------------------------------------------------------\u001b[0m",
            "\u001b[0;31mZeroDivisionError\u001b[0m                         Traceback (most recent call last)",
            "\u001b[0;32m<ipython-input-1-e77f8f9adf6e>\u001b[0m in \u001b[0;36m<cell line: 7>\u001b[0;34m()\u001b[0m\n\u001b[1;32m      5\u001b[0m \u001b[0mvelocidade\u001b[0m \u001b[0;34m=\u001b[0m \u001b[0mint\u001b[0m\u001b[0;34m(\u001b[0m\u001b[0minput\u001b[0m\u001b[0;34m(\u001b[0m\u001b[0;34m'TAMANHO DO ARQUIVO (Megabytes / segundos): '\u001b[0m\u001b[0;34m)\u001b[0m\u001b[0;34m)\u001b[0m\u001b[0;34m\u001b[0m\u001b[0;34m\u001b[0m\u001b[0m\n\u001b[1;32m      6\u001b[0m \u001b[0;31m# PROCESSAMENTO\u001b[0m\u001b[0;34m\u001b[0m\u001b[0;34m\u001b[0m\u001b[0m\n\u001b[0;32m----> 7\u001b[0;31m \u001b[0mtempo\u001b[0m \u001b[0;34m=\u001b[0m \u001b[0mtamanho\u001b[0m \u001b[0;34m/\u001b[0m \u001b[0mvelocidade\u001b[0m\u001b[0;34m\u001b[0m\u001b[0;34m\u001b[0m\u001b[0m\n\u001b[0m\u001b[1;32m      8\u001b[0m \u001b[0mminutos\u001b[0m \u001b[0;34m=\u001b[0m \u001b[0mtempo\u001b[0m \u001b[0;34m/\u001b[0m \u001b[0;36m60\u001b[0m\u001b[0;34m\u001b[0m\u001b[0;34m\u001b[0m\u001b[0m\n\u001b[1;32m      9\u001b[0m \u001b[0msegundos\u001b[0m \u001b[0;34m=\u001b[0m \u001b[0mminutos\u001b[0m \u001b[0;34m-\u001b[0m \u001b[0mmath\u001b[0m\u001b[0;34m.\u001b[0m\u001b[0mfloor\u001b[0m\u001b[0;34m(\u001b[0m\u001b[0mminutos\u001b[0m\u001b[0;34m)\u001b[0m\u001b[0;34m\u001b[0m\u001b[0;34m\u001b[0m\u001b[0m\n",
            "\u001b[0;31mZeroDivisionError\u001b[0m: division by zero"
          ]
        }
      ]
    },
    {
      "cell_type": "code",
      "source": [
        "%%shell\n",
        "jupyter nbconvert --to html /content/out.ipynb"
      ],
      "metadata": {
        "colab": {
          "base_uri": "https://localhost:8080/"
        },
        "id": "qJRj7X3uOFje",
        "outputId": "2d4eb118-8ed8-4391-815f-e9f3a801d3e5"
      },
      "execution_count": null,
      "outputs": [
        {
          "output_type": "stream",
          "name": "stdout",
          "text": [
            "[NbConvertApp] Converting notebook /content/out.ipynb to html\n",
            "[NbConvertApp] Writing 586189 bytes to /content/out.html\n"
          ]
        },
        {
          "output_type": "execute_result",
          "data": {
            "text/plain": []
          },
          "metadata": {},
          "execution_count": 3
        }
      ]
    }
  ]
}